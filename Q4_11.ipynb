{
  "nbformat": 4,
  "nbformat_minor": 0,
  "metadata": {
    "colab": {
      "provenance": [],
      "authorship_tag": "ABX9TyPfdyN4/z5Rft34WPpbLwR5",
      "include_colab_link": true
    },
    "kernelspec": {
      "name": "python3",
      "display_name": "Python 3"
    },
    "language_info": {
      "name": "python"
    }
  },
  "cells": [
    {
      "cell_type": "markdown",
      "metadata": {
        "id": "view-in-github",
        "colab_type": "text"
      },
      "source": [
        "<a href=\"https://colab.research.google.com/github/yannisduffourd/DUSHD_TP_python/blob/main/Q4_11.ipynb\" target=\"_parent\"><img src=\"https://colab.research.google.com/assets/colab-badge.svg\" alt=\"Open In Colab\"/></a>"
      ]
    },
    {
      "cell_type": "markdown",
      "source": [
        "Q4"
      ],
      "metadata": {
        "id": "tukV6VeVrVRd"
      }
    },
    {
      "cell_type": "code",
      "source": [
        "#!usr/bin/env python\n",
        "\n",
        "seq = \"AcGtacgtaaaaaaaaaaa\"\n",
        "print(\"sequence :\" , seq)\n",
        "\n",
        "# Print the length of the sequence\n",
        "print(\"sequence length:\" , len(seq))"
      ],
      "metadata": {
        "id": "fzqRyMhhrRNB"
      },
      "execution_count": null,
      "outputs": []
    },
    {
      "cell_type": "markdown",
      "source": [
        "Q5"
      ],
      "metadata": {
        "id": "K328uUPorPIB"
      }
    },
    {
      "cell_type": "code",
      "source": [
        "#!/usr/bin/env python\n",
        "\n",
        "seq = \"AcGtacgtaaaaaaaaaaa\"\n",
        "print(\"sequence :\" , seq)\n",
        "\n",
        "# Print the length of the sequence\n",
        "print(\"sequence length:\" , len(seq))\n",
        "\n",
        "# Print the number of \"A\" in this sequence\n",
        "print(seq.count(\"A\"))\n",
        "# Print the number of \"T\" in this sequence\n",
        "print(seq.count(\"T\"))\n",
        "# Print the number of \"C\" in this sequence\n",
        "print(seq.count(\"C\"))\n",
        "# Print the number of \"G\" in this sequence\n",
        "print(seq.count(\"G\"))\n"
      ],
      "metadata": {
        "id": "yPcZBikZrOa5"
      },
      "execution_count": null,
      "outputs": []
    },
    {
      "cell_type": "markdown",
      "source": [
        "Q6"
      ],
      "metadata": {
        "id": "YDJrxT5apgJQ"
      }
    },
    {
      "cell_type": "code",
      "execution_count": null,
      "metadata": {
        "colab": {
          "base_uri": "https://localhost:8080/"
        },
        "id": "xU7dSYEVoqCc",
        "outputId": "3e6d2ab4-18c5-4aba-c07d-21a368feadb1"
      },
      "outputs": [
        {
          "output_type": "stream",
          "name": "stdout",
          "text": [
            "sequence : AcGtacgtaaaaaaaaaaa\n",
            "sequence length: 19\n",
            "1\n",
            "0\n",
            "0\n",
            "1\n"
          ]
        }
      ],
      "source": [
        "#!/usr/bin/env python\n",
        "\n",
        "seq = \"AcGtacgtaaaaaaaaaaa\"\n",
        "print(\"sequence :\" , seq)\n",
        "\n",
        "# Print the length of the sequence\n",
        "print(\"sequence length:\" , len(seq))\n",
        "\n",
        "# Uppercase sequence\n",
        "sequence = seq.upper()\n",
        "\n",
        "# Print the number of \"A\" in this sequence\n",
        "print(seq.count(\"A\"))\n",
        "# Print the number of \"T\" in this sequence\n",
        "print(seq.count(\"T\"))\n",
        "# Print the number of \"C\" in this sequence\n",
        "print(seq.count(\"C\"))\n",
        "# Print the number of \"G\" in this sequence\n",
        "print(seq.count(\"G\"))"
      ]
    },
    {
      "cell_type": "markdown",
      "source": [
        "\n",
        "\n",
        "---\n",
        "\n"
      ],
      "metadata": {
        "id": "BS924y1DpXRq"
      }
    },
    {
      "cell_type": "markdown",
      "source": [
        "<br>\n",
        "Q7 "
      ],
      "metadata": {
        "id": "nPZDXoY7pVbd"
      }
    },
    {
      "cell_type": "code",
      "source": [
        "#!/usr/bin/env python\n",
        "\n",
        "seq = \"AcGtacgtaaaaaaaaaaa\"\n",
        "print(\"sequence :\" , seq)\n",
        "\n",
        "# Print the length of the sequence\n",
        "print(\"sequence length:\" , len(seq))\n",
        "\n",
        "# Uppercase sequence\n",
        "sequence = seq.upper()\n",
        "\n",
        "# Compute and print the gc content of this sequence\n",
        "print(\"GC content:\", (sequence.count(\"C\") + sequence.count(\"G\")) / len(sequence))"
      ],
      "metadata": {
        "colab": {
          "base_uri": "https://localhost:8080/"
        },
        "id": "KGCsDMxIpAe9",
        "outputId": "6ae9743c-268f-425a-dd94-1a0992b5a6c2"
      },
      "execution_count": null,
      "outputs": [
        {
          "output_type": "stream",
          "name": "stdout",
          "text": [
            "GC content: 0.21052631578947367\n"
          ]
        }
      ]
    },
    {
      "cell_type": "markdown",
      "source": [
        "Q8"
      ],
      "metadata": {
        "id": "j_bYpCWSqIEZ"
      }
    },
    {
      "cell_type": "code",
      "source": [
        "#!/usr/bin/env python\n",
        "\n",
        "seq = \"AcGtacgtaaaaaaaaaaa\"\n",
        "print(\"sequence :\" , seq)\n",
        "\n",
        "# Print the length of the sequence\n",
        "print(\"sequence length:\" , len(seq))\n",
        "\n",
        "# Uppercase sequence\n",
        "sequence = seq.upper()\n",
        "\n",
        "# Compute and print the gc content of this sequence\n",
        "gc = (sequence.count(\"C\") + sequence.count(\"G\")) / float(len(sequence))\n",
        "\n",
        "print(\"GC content:\", gc)"
      ],
      "metadata": {
        "colab": {
          "base_uri": "https://localhost:8080/"
        },
        "id": "lrelWCUwqJs4",
        "outputId": "ede86345-5b30-4254-ffc6-3a5cb9bc831a"
      },
      "execution_count": null,
      "outputs": [
        {
          "output_type": "stream",
          "name": "stdout",
          "text": [
            "sequence : AcGtacgtaaaaaaaaaaa\n",
            "sequence length: 19\n",
            "1\n",
            "0\n",
            "0\n",
            "1\n",
            "GC content: 0.21052631578947367\n"
          ]
        }
      ]
    },
    {
      "cell_type": "markdown",
      "source": [
        "Q9 "
      ],
      "metadata": {
        "id": "PeYu10fMqcGA"
      }
    },
    {
      "cell_type": "code",
      "source": [
        "#!/usr/bin/env python\n",
        "\n",
        "seq = \"AcGtacgtaaaaaaaaaaa\"\n",
        "print(\"sequence :\" , seq)\n",
        "\n",
        "# Print the length of the sequence\n",
        "print(\"sequence length:\" , len(seq))\n",
        "\n",
        "# Uppercase sequence\n",
        "sequence = seq.upper()\n",
        "\n",
        "# Compute and print the gc content of this sequence\n",
        "gc = (sequence.count(\"C\") + sequence.count(\"G\")) / float(len(sequence))\n",
        "\n",
        "print(\"GC content:\", round(gc, 2))"
      ],
      "metadata": {
        "colab": {
          "base_uri": "https://localhost:8080/"
        },
        "id": "aKjokP3Wqdfq",
        "outputId": "dae69cdd-7eda-4ac9-affc-bb41914a37f1"
      },
      "execution_count": null,
      "outputs": [
        {
          "output_type": "stream",
          "name": "stdout",
          "text": [
            "sequence : AcGtacgtaaaaaaaaaaa\n",
            "sequence length: 19\n",
            "1\n",
            "0\n",
            "0\n",
            "1\n",
            "GC content: 0.21\n"
          ]
        }
      ]
    },
    {
      "cell_type": "markdown",
      "source": [
        "Q10"
      ],
      "metadata": {
        "id": "6krcxTC9q28F"
      }
    },
    {
      "cell_type": "code",
      "source": [
        "#!/usr/bin/env python\n",
        "\n",
        "seq = input(\"Please, input your sequence:\")\n",
        "print(\"sequence :\" , seq)\n",
        "\n",
        "# Print the length of the sequence\n",
        "print(\"sequence length:\" , len(seq))\n",
        "\n",
        "# Uppercase sequence\n",
        "sequence = seq.upper()\n",
        "\n",
        "# Compute and print the gc content of this sequence\n",
        "gc = (sequence.count(\"C\") + sequence.count(\"G\")) / float(len(sequence))\n",
        "\n",
        "print(\"GC content:\", round(gc, 2))"
      ],
      "metadata": {
        "colab": {
          "base_uri": "https://localhost:8080/"
        },
        "id": "ZJvB-KwRq4Pc",
        "outputId": "3bb61771-202f-4dc7-a843-e129ba7ecf57"
      },
      "execution_count": null,
      "outputs": [
        {
          "output_type": "stream",
          "name": "stdout",
          "text": [
            "Please, input your sequence:ACGACTACGACTACAGCTACAGGCAGACGactCAgcatcAGactacGACTAcagcTAcgAcTcagCTA\n",
            "sequence : ACGACTACGACTACAGCTACAGGCAGACGactCAgcatcAGactacGACTAcagcTAcgAcTcagCTA\n",
            "sequence length: 68\n",
            "GC content: 0.51\n"
          ]
        }
      ]
    }
  ]
}