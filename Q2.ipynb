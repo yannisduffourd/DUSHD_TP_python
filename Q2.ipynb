{
  "nbformat": 4,
  "nbformat_minor": 0,
  "metadata": {
    "colab": {
      "provenance": [],
      "authorship_tag": "ABX9TyNShKXVt9Zs6fMe+IpxlgUr",
      "include_colab_link": true
    },
    "kernelspec": {
      "name": "python3",
      "display_name": "Python 3"
    },
    "language_info": {
      "name": "python"
    }
  },
  "cells": [
    {
      "cell_type": "markdown",
      "metadata": {
        "id": "view-in-github",
        "colab_type": "text"
      },
      "source": [
        "<a href=\"https://colab.research.google.com/github/yannisduffourd/DUSHD_TP_python/blob/main/Q2.ipynb\" target=\"_parent\"><img src=\"https://colab.research.google.com/assets/colab-badge.svg\" alt=\"Open In Colab\"/></a>"
      ]
    },
    {
      "cell_type": "code",
      "execution_count": null,
      "metadata": {
        "colab": {
          "base_uri": "https://localhost:8080/",
          "height": 200
        },
        "id": "H9pCWvqdm2n9",
        "outputId": "2378c93a-794e-453e-992c-215db6906856"
      },
      "outputs": [
        {
          "output_type": "error",
          "ename": "TypeError",
          "evalue": "ignored",
          "traceback": [
            "\u001b[0;31m---------------------------------------------------------------------------\u001b[0m",
            "\u001b[0;31mTypeError\u001b[0m                                 Traceback (most recent call last)",
            "\u001b[0;32m<ipython-input-1-ecdfdfa7bf5d>\u001b[0m in \u001b[0;36m<cell line: 8>\u001b[0;34m()\u001b[0m\n\u001b[1;32m      6\u001b[0m \u001b[0;34m'AC'\u001b[0m \u001b[0;34m*\u001b[0m \u001b[0;36m3\u001b[0m        \u001b[0;31m# duplication de chaines de caractères\u001b[0m\u001b[0;34m\u001b[0m\u001b[0;34m\u001b[0m\u001b[0m\n\u001b[1;32m      7\u001b[0m \u001b[0;36m10\u001b[0m \u001b[0;34m<\u001b[0m \u001b[0;36m9\u001b[0m          \u001b[0;31m# opérations de comparaisons : résultat de type booléen\u001b[0m\u001b[0;34m\u001b[0m\u001b[0;34m\u001b[0m\u001b[0m\n\u001b[0;32m----> 8\u001b[0;31m \u001b[0;34m'AAAA'\u001b[0m \u001b[0;34m/\u001b[0m \u001b[0;34m'A'\u001b[0m\u001b[0;34m\u001b[0m\u001b[0;34m\u001b[0m\u001b[0m\n\u001b[0m",
            "\u001b[0;31mTypeError\u001b[0m: unsupported operand type(s) for /: 'str' and 'str'"
          ]
        }
      ],
      "source": [
        "1 + 1           # addition d'entiers\n",
        "2 * 4           # multiplication d'entiers\n",
        "3 / 2           # division d'entiers\n",
        "3. / 2          # division de réels\n",
        "'chr' + '1'     # concaténation de chaines de caractères\n",
        "'AC' * 3        # duplication de chaines de caractères\n",
        "10 < 9          # opérations de comparaisons : résultat de type booléen\n",
        "'AAAA' / 'A'    # unsupported operand type(s) for /: 'str' and 'str'\n"
      ]
    }
  ]
}